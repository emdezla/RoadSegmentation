{
 "cells": [
  {
   "cell_type": "code",
   "execution_count": 1,
   "metadata": {},
   "outputs": [],
   "source": [
    "%matplotlib inline\n",
    "import matplotlib.image as mpimg\n",
    "import numpy as np\n",
    "import matplotlib.pyplot as plt\n",
    "import os,sys\n",
    "import pickle\n",
    "import cv2\n",
    "from helpers import *\n",
    "from ImageProcessing import *\n",
    "from PIL import Image\n",
    "from scipy import ndimage, signal\n",
    "\n",
    "%load_ext autoreload\n",
    "%autoreload 2"
   ]
  },
  {
   "cell_type": "markdown",
   "metadata": {},
   "source": [
    "# 1. Load Data"
   ]
  },
  {
   "cell_type": "markdown",
   "metadata": {},
   "source": [
    "1.1 Train Data"
   ]
  },
  {
   "cell_type": "code",
   "execution_count": 2,
   "metadata": {},
   "outputs": [
    {
     "name": "stdout",
     "output_type": "stream",
     "text": [
      "Loading 100 images\n",
      "satImage_052.png\n",
      "Loading 100 images\n",
      "satImage_052.png\n"
     ]
    }
   ],
   "source": [
    "# Loaded a set of images\n",
    "\n",
    "# IMAGE DIRECTORY\n",
    "root_dir = \"training/\"\n",
    "\n",
    "image_dir = root_dir + \"images/\"\n",
    "files = os.listdir(image_dir)\n",
    "n = len(files) # Loading percentage p of images\n",
    "print(\"Loading \" + str(n) + \" images\")\n",
    "imgs = [load_image(image_dir + files[i]) for i in range(n)]\n",
    "print(files[0])\n",
    "\n",
    "gt_dir = root_dir + \"groundtruth/\"\n",
    "print(\"Loading \" + str(n) + \" images\")\n",
    "gt_imgs = [load_image(gt_dir + files[i]) for i in range(n)]\n",
    "print(files[0])"
   ]
  },
  {
   "cell_type": "markdown",
   "metadata": {},
   "source": [
    "1.2 Test Data"
   ]
  },
  {
   "cell_type": "code",
   "execution_count": 12,
   "metadata": {},
   "outputs": [
    {
     "name": "stdout",
     "output_type": "stream",
     "text": [
      "Loaded test set of 50 images\n",
      "Their shapes are (608, 608, 3)\n"
     ]
    }
   ],
   "source": [
    "root_dir = \"test/test_\"\n",
    "n = np.arange(0,51)[1:]\n",
    "\n",
    "test_imgs = [load_image(root_dir + str(i) + \"/test_\" + str(i) + \".png\") for i in n]\n",
    "print(\"Loaded test set of 50 images\")\n",
    "print(\"Their shapes are\",test_imgs[0].shape)"
   ]
  },
  {
   "cell_type": "markdown",
   "metadata": {},
   "source": [
    "1.3 Loading Augmented Data"
   ]
  },
  {
   "cell_type": "code",
   "execution_count": 140,
   "metadata": {},
   "outputs": [
    {
     "name": "stdout",
     "output_type": "stream",
     "text": [
      "Loaded X_2D_patch16_channels14 and Y_2D_patch16_channels14\n",
      "X shape is (800, 25, 25, 14)\n",
      "Y shape is (800, 25, 25)\n"
     ]
    }
   ],
   "source": [
    "filename_X = \"X_2D_patch16_channels14\"\n",
    "filename_Y = \"Y_2D_patch16_channels14\"\n",
    "\n",
    "infile_X = open(filename_X + \".pickle\",\"rb\")\n",
    "X_2D = pickle.load(infile_X)\n",
    "infile_X.close()\n",
    "\n",
    "infile_Y = open(filename_Y + \".pickle\",\"rb\")\n",
    "Y_2D = pickle.load(infile_Y)\n",
    "infile_Y.close()\n",
    "\n",
    "print(\"Loaded \" + filename_X + \" and \" + filename_Y)\n",
    "print(\"X shape is\", X_2D.shape)\n",
    "print(\"Y shape is\", Y_2D.shape)"
   ]
  },
  {
   "cell_type": "markdown",
   "metadata": {},
   "source": [
    "# 2. Saving Data"
   ]
  },
  {
   "cell_type": "markdown",
   "metadata": {},
   "source": [
    "2.1 Saving Augmented and Processed training set"
   ]
  },
  {
   "cell_type": "code",
   "execution_count": null,
   "metadata": {},
   "outputs": [],
   "source": [
    "filename_X = \"X_2D_patchNo_channels6\"\n",
    "filename_Y = \"Y_2D_patchNo_channels6\"\n",
    "\n",
    "pickle_X = open(filename_X + \".pickle\",'wb')\n",
    "pickle.dump(imgs,pickle_X)\n",
    "pickle_X.close()\n",
    "\n",
    "pickle_Y = open(filename_Y + \".pickle\",'wb')\n",
    "pickle.dump(aug_gt_imgs,pickle_Y)\n",
    "pickle_Y.close()\n",
    "\n",
    "print(\"Saved X variable to \"+filename_X+\".pickle\")\n",
    "print(\"Saved Y variable to \"+filename_Y+\".pickle\")"
   ]
  },
  {
   "cell_type": "markdown",
   "metadata": {},
   "source": [
    "2.2 Saving Processed test set"
   ]
  },
  {
   "cell_type": "code",
   "execution_count": 19,
   "metadata": {},
   "outputs": [
    {
     "name": "stdout",
     "output_type": "stream",
     "text": [
      "Saved X_test variable to Xtest_2D_patch16_channels14.pickle\n"
     ]
    }
   ],
   "source": [
    "Type = \"2D\" # 1D or 2D \n",
    "\n",
    "filename_X_test = \"Xtest_\"+Type+\"_patch16_channels14\"\n",
    "\n",
    "pickle_X = open(filename_X_test + \".pickle\",'wb')\n",
    "pickle.dump(X_2D,pickle_X)\n",
    "pickle_X.close()\n",
    "\n",
    "print(\"Saved X_test variable to \"+filename_X_test+\".pickle\")"
   ]
  },
  {
   "cell_type": "markdown",
   "metadata": {},
   "source": [
    "# 3. Train Data Processing"
   ]
  },
  {
   "cell_type": "markdown",
   "metadata": {},
   "source": [
    "3.1 Data Augmentation (for training set only)"
   ]
  },
  {
   "cell_type": "code",
   "execution_count": 3,
   "metadata": {},
   "outputs": [
    {
     "name": "stdout",
     "output_type": "stream",
     "text": [
      "Augmenting the data with the images rotated by 0 deg.\n",
      "Augmenting the data with the images rotated by 90 deg.\n",
      "Augmenting the data with the images rotated by 180 deg.\n",
      "Augmenting the data with the images rotated by 270 deg.\n",
      "Augmenting the data with the symmetries\n",
      "Now there are 800 total images\n"
     ]
    }
   ],
   "source": [
    "angles = [0, 90,180,270]\n",
    "aug_imgs, aug_gt_imgs = DataAugmentation(imgs, gt_imgs, angles, True)\n",
    "\n",
    "number_imgs = len(aug_imgs)\n",
    "\n",
    "del imgs, gt_imgs\n",
    "print(\"Now there are\", number_imgs, \"total images\")"
   ]
  },
  {
   "cell_type": "markdown",
   "metadata": {},
   "source": [
    "3.2 Channel Augmentation"
   ]
  },
  {
   "cell_type": "code",
   "execution_count": 4,
   "metadata": {},
   "outputs": [
    {
     "name": "stdout",
     "output_type": "stream",
     "text": [
      "The images had originally  3 channels\n",
      "The images have now  6 channels\n"
     ]
    }
   ],
   "source": [
    "# Add three chanels to the original images. (Grey level, vertical edges and horizontal edges)\n",
    "print(\"The images had originally\",aug_imgs[0].shape[2], \"channels\")\n",
    "imgs = ChannelAugmentation(aug_imgs)\n",
    "print(\"The images now have\", imgs[0].shape[2], \"channels\")\n",
    "\n",
    "del aug_imgs"
   ]
  },
  {
   "cell_type": "markdown",
   "metadata": {},
   "source": [
    "3.3 Patch Extraction"
   ]
  },
  {
   "cell_type": "code",
   "execution_count": 5,
   "metadata": {},
   "outputs": [
    {
     "name": "stdout",
     "output_type": "stream",
     "text": [
      "img_patches has size  (500000, 16, 16, 6)\n",
      "gt_patches has size  (500000, 16, 16)\n"
     ]
    }
   ],
   "source": [
    "patch_size=16\n",
    "\n",
    "img_patches, gt_patches = ExtractPatch(imgs, aug_gt_imgs, patch_size)\n",
    "\n",
    "print(\"img_patches has size \", img_patches.shape)\n",
    "print(\"gt_patches has size \", gt_patches.shape)\n",
    "\n",
    "del imgs, aug_gt_imgs"
   ]
  },
  {
   "cell_type": "markdown",
   "metadata": {},
   "source": [
    "3.5 Extraction of features"
   ]
  },
  {
   "cell_type": "code",
   "execution_count": 28,
   "metadata": {},
   "outputs": [
    {
     "name": "stdout",
     "output_type": "stream",
     "text": [
      "Shape of X is (800, 14) where axis 0 is patch, axis 1 is channels\n",
      "Shape of Y is (800,) where axis 0 is patch\n"
     ]
    }
   ],
   "source": [
    "# Compute features for each image patch\n",
    "foreground_threshold = 0.25 # percentage of pixels > 1 required to assign a foreground label to a patch\n",
    "\n",
    "X = np.asarray([extract_features(img_patches[i]) for i in range(len(img_patches))])\n",
    "Y = np.asarray([value_to_class(np.mean(gt_patches[i]), foreground_threshold) for i in range(len(gt_patches))])\n",
    "\n",
    "\n",
    "print(\"Shape of X is\",X.shape,\"where axis 0 is patch, axis 1 is channels\")\n",
    "print(\"Shape of Y is\",Y.shape,\"where axis 0 is patch\")\n",
    "del img_patches, gt_patches"
   ]
  },
  {
   "cell_type": "markdown",
   "metadata": {},
   "source": [
    "3.6 2D data"
   ]
  },
  {
   "cell_type": "code",
   "execution_count": 8,
   "metadata": {},
   "outputs": [
    {
     "name": "stdout",
     "output_type": "stream",
     "text": [
      "Shape of X_2D is (800, 25, 25, 14) where axis 0 is #imgs, axes 1,2 are # of horiz and vert patches, axis 3 is channels\n",
      "Shape of Y_2D is same as X_2D except without channels\n"
     ]
    }
   ],
   "source": [
    "X_2D = np.reshape(X,(800,25,25,14))\n",
    "Y_2D = np.reshape(Y,(800,25,25))\n",
    "\n",
    "for i in range(X_2D.shape[0]):\n",
    "    X_2D[i] = np.flip(BuildRotatedImage(X_2D[i],90),axis=0)\n",
    "    Y_2D[i] = np.flip(BuildRotatedImage(Y_2D[i],90),axis=0)\n",
    "\n",
    "print(\"Shape of X_2D is\",X_2D.shape, \"where axis 0 is #imgs, axes 1,2 are # of horiz and vert patches, axis 3 is channels\")\n",
    "print(\"Shape of Y_2D is same as X_2D except without channels\")"
   ]
  },
  {
   "cell_type": "markdown",
   "metadata": {},
   "source": [
    "3.7 1D data"
   ]
  },
  {
   "cell_type": "code",
   "execution_count": 9,
   "metadata": {},
   "outputs": [],
   "source": [
    "X_1D = np.reshape(X_2D,(-1,14))\n",
    "Y_1D = np.reshape(Y_2D,(-1))"
   ]
  },
  {
   "cell_type": "markdown",
   "metadata": {},
   "source": [
    "# 4. Test Data Processing"
   ]
  },
  {
   "cell_type": "markdown",
   "metadata": {},
   "source": [
    "4.1 Channel Augmentation"
   ]
  },
  {
   "cell_type": "code",
   "execution_count": 13,
   "metadata": {},
   "outputs": [],
   "source": [
    "imgs = ChannelAugmentation(test_imgs)\n",
    "del test_imgs"
   ]
  },
  {
   "cell_type": "markdown",
   "metadata": {},
   "source": [
    "4.2 Patch Extraction"
   ]
  },
  {
   "cell_type": "code",
   "execution_count": 14,
   "metadata": {},
   "outputs": [],
   "source": [
    "img_patches = ExtractPatchTest(imgs,patch_size=16)\n",
    "del imgs"
   ]
  },
  {
   "cell_type": "markdown",
   "metadata": {},
   "source": [
    "4.3 Extraction of Features"
   ]
  },
  {
   "cell_type": "code",
   "execution_count": 15,
   "metadata": {},
   "outputs": [
    {
     "name": "stdout",
     "output_type": "stream",
     "text": [
      "Shape of X is (72200, 14) where axis 0 is patch, axis 1 is channels\n"
     ]
    }
   ],
   "source": [
    "# Compute features for each image patch\n",
    "foreground_threshold = 0.25 # percentage of pixels > 1 required to assign a foreground label to a patch\n",
    "\n",
    "X = np.asarray([extract_features(img_patches[i]) for i in range(len(img_patches))])\n",
    "\n",
    "print(\"Shape of X is\",X.shape,\"where axis 0 is patch, axis 1 is channels\")\n",
    "del img_patches"
   ]
  },
  {
   "cell_type": "markdown",
   "metadata": {},
   "source": [
    "4.4 2D data"
   ]
  },
  {
   "cell_type": "code",
   "execution_count": 16,
   "metadata": {},
   "outputs": [
    {
     "name": "stdout",
     "output_type": "stream",
     "text": [
      "X_2D has a shape of (50, 38, 38, 14)\n"
     ]
    }
   ],
   "source": [
    "X_2D = np.reshape(X,(50,int(np.sqrt(X.shape[0]/50)),int(np.sqrt(X.shape[0]/50)),14))\n",
    "for i in range(X_2D.shape[0]):\n",
    "    X_2D[i] = np.flip(BuildRotatedImage(X_2D[i],90),axis=0)\n",
    "print(\"X_2D has a shape of\",X_2D.shape)"
   ]
  },
  {
   "cell_type": "markdown",
   "metadata": {},
   "source": [
    "4.5 1D data"
   ]
  },
  {
   "cell_type": "code",
   "execution_count": 17,
   "metadata": {},
   "outputs": [
    {
     "name": "stdout",
     "output_type": "stream",
     "text": [
      "Dim 1 of X_1D is the image, dim 2 is the patches, dim 3 is the channels\n",
      "Shape of X_1D is (50, 1444, 14)\n"
     ]
    }
   ],
   "source": [
    "X_1D = np.reshape(X_2D,(50,-1,14))\n",
    "print(\"Dim 1 of X_1D is the image, dim 2 is the patches, dim 3 is the channels\")\n",
    "print(\"Shape of X_1D is\",X_1D.shape)"
   ]
  },
  {
   "cell_type": "code",
   "execution_count": null,
   "metadata": {},
   "outputs": [],
   "source": []
  }
 ],
 "metadata": {
  "kernelspec": {
   "display_name": "Python 3",
   "language": "python",
   "name": "python3"
  },
  "language_info": {
   "codemirror_mode": {
    "name": "ipython",
    "version": 3
   },
   "file_extension": ".py",
   "mimetype": "text/x-python",
   "name": "python",
   "nbconvert_exporter": "python",
   "pygments_lexer": "ipython3",
   "version": "3.7.5"
  }
 },
 "nbformat": 4,
 "nbformat_minor": 2
}
